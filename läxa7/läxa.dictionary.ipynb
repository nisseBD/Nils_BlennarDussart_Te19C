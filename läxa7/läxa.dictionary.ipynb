{
 "metadata": {
  "language_info": {
   "codemirror_mode": {
    "name": "ipython",
    "version": 3
   },
   "file_extension": ".py",
   "mimetype": "text/x-python",
   "name": "python",
   "nbconvert_exporter": "python",
   "pygments_lexer": "ipython3",
   "version": "3.8.3-final"
  },
  "orig_nbformat": 2,
  "kernelspec": {
   "name": "python3",
   "display_name": "Python 3.8.3 64-bit ('nils.blennardussart': virtualenv)",
   "metadata": {
    "interpreter": {
     "hash": "8c0fd3f7fab6fac221adaac4cee9243092b31b85383eb63665c767af85e82a7c"
    }
   }
  }
 },
 "nbformat": 4,
 "nbformat_minor": 2,
 "cells": [
  {
   "cell_type": "code",
   "execution_count": 9,
   "metadata": {},
   "outputs": [
    {
     "output_type": "stream",
     "name": "stdout",
     "text": [
      "Jag läser kurser för totalt: 950 poäng just nu!\n"
     ]
    }
   ],
   "source": [
    "# Uppgift 1\n",
    "\n",
    "total = 0\n",
    "\n",
    "kurser = dict(\n",
    "    Idrott1 = 100,\n",
    "    Webbserver1 = 100,\n",
    "    Engelska6 = 100,\n",
    "    Svenska2 = 100,\n",
    "    Fysik1 = 150,\n",
    "    Daodac = 100,\n",
    "    Programmering = 100,\n",
    "    Webbutveckling = 100,\n",
    "    Matte4 = 100\n",
    ")\n",
    "\n",
    "for i in kurser:\n",
    "    total += kurser[i]\n",
    "\n",
    "print(f\"Jag läser kurser för totalt: {total} poäng just nu!\")"
   ]
  },
  {
   "cell_type": "code",
   "execution_count": 53,
   "metadata": {},
   "outputs": [
    {
     "output_type": "stream",
     "name": "stdout",
     "text": [
      "Frekvenstabell\n1: 16701\n2: 16556\n3: 16941\n4: 16431\n5: 16690\n6: 16681\n"
     ]
    }
   ],
   "source": [
    "# Uppgift 2\n",
    "\n",
    "import random as rnd\n",
    "\n",
    "tärning = {}\n",
    "poäng = 0\n",
    "\n",
    "for i in range(1,7):\n",
    "    tärning[f\"{i}:\"] = 0\n",
    "\n",
    "for j in range(100000):\n",
    "    slumptal = rnd.randint(1,6)\n",
    "    if slumptal == 1:\n",
    "        tärning[f\"{1}:\"] += 1\n",
    "    elif slumptal == 2:\n",
    "        tärning[f\"{2}:\"] += 1\n",
    "    elif slumptal == 3:\n",
    "        tärning[f\"{3}:\"] += 1\n",
    "    elif slumptal == 4:\n",
    "        tärning[f\"{4}:\"] += 1\n",
    "    elif slumptal == 5:\n",
    "        tärning[f\"{5}:\"] += 1 \n",
    "    else:\n",
    "        tärning[f\"{6}:\"] += 1     \n",
    "\n",
    "print(\"Frekvenstabell\")                \n",
    "for x in tärning:\n",
    "    print(f\"{x} {tärning[x]}\")"
   ]
  },
  {
   "cell_type": "code",
   "execution_count": 1,
   "metadata": {},
   "outputs": [
    {
     "output_type": "stream",
     "name": "stdout",
     "text": [
      "Typ: ('Psykisk', '150')\n"
     ]
    }
   ],
   "source": [
    "# Uppgift 3\n",
    "\n",
    "pokedex = {}\n",
    "\n",
    "with open(\"pokemonlista.txt\",\"r\") as f:\n",
    "    for rad in f:\n",
    "        rad = rad.strip(\"\\n\")\n",
    "        rad = rad.split()\n",
    "        pokedex[rad[1]] = rad[2], rad[0]\n",
    "\n",
    "print(f'Typ: {pokedex[\"Mewtwo\"]}')"
   ]
  },
  {
   "cell_type": "code",
   "execution_count": null,
   "metadata": {},
   "outputs": [],
   "source": []
  }
 ]
}