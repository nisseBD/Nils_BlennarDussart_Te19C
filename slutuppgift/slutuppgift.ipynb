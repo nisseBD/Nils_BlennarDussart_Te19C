{
 "metadata": {
  "language_info": {
   "codemirror_mode": {
    "name": "ipython",
    "version": 3
   },
   "file_extension": ".py",
   "mimetype": "text/x-python",
   "name": "python",
   "nbconvert_exporter": "python",
   "pygments_lexer": "ipython3",
   "version": "3.8.0-final"
  },
  "orig_nbformat": 2,
  "kernelspec": {
   "name": "python380jvsc74a57bd05754b8f102d510087119185fb97eaa3e4bec3a17e8ede68d8669020b9464e593",
   "display_name": "Python 3.8.0 32-bit"
  }
 },
 "nbformat": 4,
 "nbformat_minor": 2,
 "cells": [
  {
   "cell_type": "code",
   "execution_count": 4,
   "metadata": {},
   "outputs": [
    {
     "output_type": "execute_result",
     "data": {
      "text/plain": [
       "                 Blekinge    7646  4790.546875    34   112\n",
       "0                 Dalarna   13942  4841.543945   101   302\n",
       "1                 Gotland    2650  4439.902344    24    44\n",
       "2              GÃ¤vleborg   19426  6759.644043   150   482\n",
       "3                 Halland   21052  6305.863770   101   254\n",
       "4   JÃ¤mtland HÃ¤rjedalen    6249  4777.157715    46   100\n",
       "5             JÃ¶nkÃ¶ping   24236  6665.584961   219   486\n",
       "6                  Kalmar   10391  4233.517578    61   207\n",
       "7               Kronoberg   13080  6492.313965    79   284\n",
       "8              Norrbotten   10977  4389.166992   114   212\n",
       "9                  SkÃ¥ne  103958  7545.069336   453  1474\n",
       "10              Stockholm  144522  6079.809570  1530  3820\n",
       "11              SÃ¶rmland   12214  4104.994141   223   389\n",
       "12                Uppsala   22684  5911.709961   241   467\n",
       "13              VÃ¤rmland    8320  2946.029541    64   162\n",
       "14          VÃ¤sterbotten   11957  4400.226562    75   123\n",
       "15        VÃ¤sternorrland   14034  5720.062012   112   387\n",
       "16           VÃ¤stmanland   17408  6310.790527    88   311\n",
       "17      VÃ¤stra GÃ¶taland  105596  6118.382324   926  1993\n",
       "18                Ãrebro   16934  5555.683105   135   285\n",
       "19         ÃstergÃ¶tland   21135  4540.328125   217   534"
      ],
      "text/html": "<div>\n<style scoped>\n    .dataframe tbody tr th:only-of-type {\n        vertical-align: middle;\n    }\n\n    .dataframe tbody tr th {\n        vertical-align: top;\n    }\n\n    .dataframe thead th {\n        text-align: right;\n    }\n</style>\n<table border=\"1\" class=\"dataframe\">\n  <thead>\n    <tr style=\"text-align: right;\">\n      <th></th>\n      <th>Blekinge</th>\n      <th>7646</th>\n      <th>4790.546875</th>\n      <th>34</th>\n      <th>112</th>\n    </tr>\n  </thead>\n  <tbody>\n    <tr>\n      <th>0</th>\n      <td>Dalarna</td>\n      <td>13942</td>\n      <td>4841.543945</td>\n      <td>101</td>\n      <td>302</td>\n    </tr>\n    <tr>\n      <th>1</th>\n      <td>Gotland</td>\n      <td>2650</td>\n      <td>4439.902344</td>\n      <td>24</td>\n      <td>44</td>\n    </tr>\n    <tr>\n      <th>2</th>\n      <td>GÃ¤vleborg</td>\n      <td>19426</td>\n      <td>6759.644043</td>\n      <td>150</td>\n      <td>482</td>\n    </tr>\n    <tr>\n      <th>3</th>\n      <td>Halland</td>\n      <td>21052</td>\n      <td>6305.863770</td>\n      <td>101</td>\n      <td>254</td>\n    </tr>\n    <tr>\n      <th>4</th>\n      <td>JÃ¤mtland HÃ¤rjedalen</td>\n      <td>6249</td>\n      <td>4777.157715</td>\n      <td>46</td>\n      <td>100</td>\n    </tr>\n    <tr>\n      <th>5</th>\n      <td>JÃ¶nkÃ¶ping</td>\n      <td>24236</td>\n      <td>6665.584961</td>\n      <td>219</td>\n      <td>486</td>\n    </tr>\n    <tr>\n      <th>6</th>\n      <td>Kalmar</td>\n      <td>10391</td>\n      <td>4233.517578</td>\n      <td>61</td>\n      <td>207</td>\n    </tr>\n    <tr>\n      <th>7</th>\n      <td>Kronoberg</td>\n      <td>13080</td>\n      <td>6492.313965</td>\n      <td>79</td>\n      <td>284</td>\n    </tr>\n    <tr>\n      <th>8</th>\n      <td>Norrbotten</td>\n      <td>10977</td>\n      <td>4389.166992</td>\n      <td>114</td>\n      <td>212</td>\n    </tr>\n    <tr>\n      <th>9</th>\n      <td>SkÃ¥ne</td>\n      <td>103958</td>\n      <td>7545.069336</td>\n      <td>453</td>\n      <td>1474</td>\n    </tr>\n    <tr>\n      <th>10</th>\n      <td>Stockholm</td>\n      <td>144522</td>\n      <td>6079.809570</td>\n      <td>1530</td>\n      <td>3820</td>\n    </tr>\n    <tr>\n      <th>11</th>\n      <td>SÃ¶rmland</td>\n      <td>12214</td>\n      <td>4104.994141</td>\n      <td>223</td>\n      <td>389</td>\n    </tr>\n    <tr>\n      <th>12</th>\n      <td>Uppsala</td>\n      <td>22684</td>\n      <td>5911.709961</td>\n      <td>241</td>\n      <td>467</td>\n    </tr>\n    <tr>\n      <th>13</th>\n      <td>VÃ¤rmland</td>\n      <td>8320</td>\n      <td>2946.029541</td>\n      <td>64</td>\n      <td>162</td>\n    </tr>\n    <tr>\n      <th>14</th>\n      <td>VÃ¤sterbotten</td>\n      <td>11957</td>\n      <td>4400.226562</td>\n      <td>75</td>\n      <td>123</td>\n    </tr>\n    <tr>\n      <th>15</th>\n      <td>VÃ¤sternorrland</td>\n      <td>14034</td>\n      <td>5720.062012</td>\n      <td>112</td>\n      <td>387</td>\n    </tr>\n    <tr>\n      <th>16</th>\n      <td>VÃ¤stmanland</td>\n      <td>17408</td>\n      <td>6310.790527</td>\n      <td>88</td>\n      <td>311</td>\n    </tr>\n    <tr>\n      <th>17</th>\n      <td>VÃ¤stra GÃ¶taland</td>\n      <td>105596</td>\n      <td>6118.382324</td>\n      <td>926</td>\n      <td>1993</td>\n    </tr>\n    <tr>\n      <th>18</th>\n      <td>Ãrebro</td>\n      <td>16934</td>\n      <td>5555.683105</td>\n      <td>135</td>\n      <td>285</td>\n    </tr>\n    <tr>\n      <th>19</th>\n      <td>ÃstergÃ¶tland</td>\n      <td>21135</td>\n      <td>4540.328125</td>\n      <td>217</td>\n      <td>534</td>\n    </tr>\n  </tbody>\n</table>\n</div>"
     },
     "metadata": {},
     "execution_count": 4
    }
   ],
   "source": [
    "import pandas as pd\n",
    "\n",
    "da = pd.read_csv(\"Regional_Totals_Data.csv\", encoding=\"ISO-8859-1\", header=1)\n",
    "da"
   ]
  },
  {
   "cell_type": "code",
   "execution_count": null,
   "metadata": {},
   "outputs": [],
   "source": []
  }
 ]
}