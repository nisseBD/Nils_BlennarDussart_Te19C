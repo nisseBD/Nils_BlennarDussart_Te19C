{
 "metadata": {
  "language_info": {
   "codemirror_mode": {
    "name": "ipython",
    "version": 3
   },
   "file_extension": ".py",
   "mimetype": "text/x-python",
   "name": "python",
   "nbconvert_exporter": "python",
   "pygments_lexer": "ipython3",
   "version": "3.8.3-final"
  },
  "orig_nbformat": 2,
  "kernelspec": {
   "name": "python3",
   "display_name": "Python 3",
   "language": "python"
  }
 },
 "nbformat": 4,
 "nbformat_minor": 2,
 "cells": [
  {
   "cell_type": "code",
   "execution_count": 19,
   "metadata": {},
   "outputs": [
    {
     "output_type": "stream",
     "name": "stdout",
     "text": [
      "Ditt namn har 3 bokstäver\n"
     ]
    }
   ],
   "source": [
    "# Uppgift 1\n",
    "\n",
    "namn = input(\"Skriv ditt namn: \")\n",
    "\n",
    "if namn.__len__() > 1:\n",
    "    print(f\"Ditt namn har {namn.__len__()} bokstäver\")\n",
    "else:\n",
    "    print(f\"Ditt namn har {namn.__len__()} bokstav\")"
   ]
  },
  {
   "cell_type": "code",
   "execution_count": 21,
   "metadata": {},
   "outputs": [
    {
     "output_type": "stream",
     "name": "stdout",
     "text": [
      "Antal ord i denna mening är: 15\n"
     ]
    }
   ],
   "source": [
    "# Uppgift 2\n",
    "\n",
    "mening = \"En bild säger mer än tusen ord, en matematisk formel säger mer än tusen bilder\"\n",
    "\n",
    "ord = len(mening.split())\n",
    "\n",
    "print(f\"Antal ord i denna mening är: {str(ord)}\")"
   ]
  },
  {
   "cell_type": "code",
   "execution_count": 25,
   "metadata": {},
   "outputs": [
    {
     "output_type": "stream",
     "name": "stdout",
     "text": [
      "Detta är ett exempel på ett palindrom\n"
     ]
    }
   ],
   "source": [
    "# Uppgift 3 a\n",
    "\n",
    "tecken = input(\"mata in en följd av valfria tecken!: \")\n",
    "\n",
    "if tecken == tecken[::-1]:\n",
    "    print(\"Detta är ett exempel på ett palindrom\")\n",
    "else: \n",
    "        print(\"Detta är inte ett palindrom\")"
   ]
  },
  {
   "cell_type": "code",
   "execution_count": 5,
   "metadata": {},
   "outputs": [
    {
     "output_type": "stream",
     "name": "stdout",
     "text": [
      "Detta är ett exempel på ett palindrom\n"
     ]
    }
   ],
   "source": [
    "# Uppgift 3 b\n",
    "\n",
    "tecken = input(\"mata in en följd av valfria tecken!: \")\n",
    "\n",
    "tecken = tecken.replace(\",\",\"\")\n",
    "tecken = tecken.replace(\" \",\"\")\n",
    "\n",
    "if tecken == tecken[::-1]:\n",
    "    print(\"Detta är ett exempel på ett palindrom\")\n",
    "else: \n",
    "    print(\"Detta är inte ett palindrom\")"
   ]
  },
  {
   "cell_type": "code",
   "execution_count": 1,
   "metadata": {},
   "outputs": [
    {
     "output_type": "stream",
     "name": "stdout",
     "text": [
      "LPSW\n"
     ]
    }
   ],
   "source": [
    "# Uppgift 5 a\n",
    "\n",
    "alfabetet = \"ABCDEFGHIJKLMNOPQRSTUVWXYZÅÄÖ\"\n",
    "\n",
    "ord = input(\"Mata in ett ord: \")\n",
    "\n",
    "seperation = ord.split(\" \")\n",
    "Meddelande = seperation[0].upper()\n",
    "\n",
    "resultat = \"\"\n",
    "for letter in Meddelande:\n",
    "    PositonAvBokstav = alfabetet.index(letter)\n",
    "    PositonAvBokstav += 1\n",
    "    while PositonAvBokstav > len(alfabetet) -1:\n",
    "        PositonAvBokstav -= len(alfabetet)\n",
    "    resultat += alfabetet[PositonAvBokstav]\n",
    "\n",
    "print(resultat)\n"
   ]
  },
  {
   "cell_type": "code",
   "execution_count": 1,
   "metadata": {},
   "outputs": [
    {
     "output_type": "stream",
     "name": "stdout",
     "text": [
      "JNÖRCJNÖCJÖCÖRJCÖCRJCJÖCJÖCÖJÖCÖJCRCJÖJCRCJ\n"
     ]
    }
   ],
   "source": [
    "# Uppgift 5 B\n",
    "\n",
    "alfabetet = \"ABCDEFGHIJKLMNOPQRSTUVWXYZÅÄÖ\"\n",
    "\n",
    "ord = input(\"Mata in ett ord som du vill dekryptera: \")\n",
    "\n",
    "seperation = ord.split(\" \")\n",
    "Meddelande = seperation[0].upper()\n",
    "\n",
    "resultat = \"\"\n",
    "for letter in Meddelande:\n",
    "    PositonAvBokstav = alfabetet.index(letter)\n",
    "    PositonAvBokstav -= 1\n",
    "    while PositonAvBokstav > len(alfabetet) -1:\n",
    "        PositonAvBokstav -= len(alfabetet)\n",
    "    resultat += alfabetet[PositonAvBokstav]\n",
    "\n",
    "print(resultat)\n"
   ]
  },
  {
   "cell_type": "code",
   "execution_count": 2,
   "metadata": {},
   "outputs": [
    {
     "output_type": "stream",
     "name": "stdout",
     "text": [
      "JNQURNOOÖ\n"
     ]
    }
   ],
   "source": [
    "# Uppgift 5 c\n",
    "\n",
    "alfabetet = \"ABCDEFGHIJKLMNOPQRSTUVWXYZÅÄÖ\"\n",
    "\n",
    "siffra = input(\"Mata in en etta om du vill kryptera eller två om du vill dekryptera: \")\n",
    "ord = input(\"Mata in ett följd av bokstäver: \")\n",
    "\n",
    "seperation = ord.split(\" \")\n",
    "Meddelande = seperation[0].upper()\n",
    "kryptering = 0\n",
    "\n",
    "if siffra == 1:\n",
    "    kryptering = 1\n",
    "else:\n",
    "    kryptering = -1\n",
    "    \n",
    "\n",
    "resultat = \"\"\n",
    "for letter in Meddelande:\n",
    "    PositonAvBokstav = alfabetet.index(letter)\n",
    "    PositonAvBokstav += kryptering\n",
    "    while PositonAvBokstav > len(alfabetet) -1:\n",
    "        PositonAvBokstav -= len(alfabetet)\n",
    "    resultat += alfabetet[PositonAvBokstav]\n",
    "\n",
    "print(resultat)"
   ]
  },
  {
   "cell_type": "code",
   "execution_count": null,
   "metadata": {},
   "outputs": [],
   "source": []
  }
 ]
}