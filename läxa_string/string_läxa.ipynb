{
 "metadata": {
  "language_info": {
   "codemirror_mode": {
    "name": "ipython",
    "version": 3
   },
   "file_extension": ".py",
   "mimetype": "text/x-python",
   "name": "python",
   "nbconvert_exporter": "python",
   "pygments_lexer": "ipython3",
   "version": "3.8.3-final"
  },
  "orig_nbformat": 2,
  "kernelspec": {
   "name": "python3",
   "display_name": "Python 3"
  }
 },
 "nbformat": 4,
 "nbformat_minor": 2,
 "cells": [
  {
   "cell_type": "code",
   "execution_count": 19,
   "metadata": {},
   "outputs": [
    {
     "output_type": "stream",
     "name": "stdout",
     "text": [
      "Ditt namn har 3 bokstäver\n"
     ]
    }
   ],
   "source": [
    "# Uppgift 1\n",
    "\n",
    "namn = input(\"Skriv ditt namn: \")\n",
    "\n",
    "if namn.__len__() > 1:\n",
    "    print(f\"Ditt namn har {namn.__len__()} bokstäver\")\n",
    "else:\n",
    "    print(f\"Ditt namn har {namn.__len__()} bokstav\")"
   ]
  },
  {
   "cell_type": "code",
   "execution_count": 21,
   "metadata": {},
   "outputs": [
    {
     "output_type": "stream",
     "name": "stdout",
     "text": [
      "Antal ord i denna mening är: 15\n"
     ]
    }
   ],
   "source": [
    "# Uppgift 2\n",
    "\n",
    "mening = \"En bild säger mer än tusen ord, en matematisk formel säger mer än tusen bilder\"\n",
    "\n",
    "ord = len(mening.split())\n",
    "\n",
    "print(f\"Antal ord i denna mening är: {str(ord)}\")"
   ]
  },
  {
   "cell_type": "code",
   "execution_count": 25,
   "metadata": {},
   "outputs": [
    {
     "output_type": "stream",
     "name": "stdout",
     "text": [
      "Detta är ett exempel på ett palindrom\n"
     ]
    }
   ],
   "source": [
    "# Uppgift 3 a\n",
    "\n",
    "tecken = input(\"mata in en följd av valfria tecken!: \")\n",
    "\n",
    "if tecken == tecken[::-1]:\n",
    "    print(\"Detta är ett exempel på ett palindrom\")\n",
    "else: \n",
    "        print(\"Detta är inte ett palindrom\")"
   ]
  },
  {
   "cell_type": "code",
   "execution_count": 5,
   "metadata": {},
   "outputs": [
    {
     "output_type": "stream",
     "name": "stdout",
     "text": [
      "Detta är ett exempel på ett palindrom\n"
     ]
    }
   ],
   "source": [
    "# Uppgift 3 b\n",
    "\n",
    "tecken = input(\"mata in en följd av valfria tecken!: \")\n",
    "\n",
    "tecken = tecken.replace(\",\",\"\")\n",
    "tecken = tecken.replace(\" \",\"\")\n",
    "\n",
    "if tecken == tecken[::-1]:\n",
    "    print(\"Detta är ett exempel på ett palindrom\")\n",
    "else: \n",
    "    print(\"Detta är inte ett palindrom\")"
   ]
  },
  {
   "cell_type": "code",
   "execution_count": 15,
   "metadata": {},
   "outputs": [
    {
     "output_type": "error",
     "ename": "ValueError",
     "evalue": "substring not found",
     "traceback": [
      "\u001b[1;31m---------------------------------------------------------------------------\u001b[0m",
      "\u001b[1;31mValueError\u001b[0m                                Traceback (most recent call last)",
      "\u001b[1;32m<ipython-input-15-72697c021b04>\u001b[0m in \u001b[0;36m<module>\u001b[1;34m\u001b[0m\n\u001b[0;32m     10\u001b[0m \u001b[0mresultat\u001b[0m \u001b[1;33m=\u001b[0m \u001b[1;34m\"\"\u001b[0m\u001b[1;33m\u001b[0m\u001b[1;33m\u001b[0m\u001b[0m\n\u001b[0;32m     11\u001b[0m \u001b[1;32mfor\u001b[0m \u001b[0mletter\u001b[0m \u001b[1;32min\u001b[0m \u001b[0mMeddelande\u001b[0m\u001b[1;33m:\u001b[0m\u001b[1;33m\u001b[0m\u001b[1;33m\u001b[0m\u001b[0m\n\u001b[1;32m---> 12\u001b[1;33m     \u001b[0mPositonAvBokstav\u001b[0m \u001b[1;33m=\u001b[0m \u001b[0malfabetet\u001b[0m\u001b[1;33m.\u001b[0m\u001b[0mindex\u001b[0m\u001b[1;33m(\u001b[0m\u001b[0mletter\u001b[0m\u001b[1;33m)\u001b[0m\u001b[1;33m\u001b[0m\u001b[1;33m\u001b[0m\u001b[0m\n\u001b[0m\u001b[0;32m     13\u001b[0m     \u001b[0mPositonAvBokstav\u001b[0m \u001b[1;33m+=\u001b[0m \u001b[1;36m1\u001b[0m\u001b[1;33m\u001b[0m\u001b[1;33m\u001b[0m\u001b[0m\n\u001b[0;32m     14\u001b[0m     \u001b[1;32mwhile\u001b[0m \u001b[0mPositonAvBokstav\u001b[0m \u001b[1;33m>\u001b[0m \u001b[0mlen\u001b[0m\u001b[1;33m(\u001b[0m\u001b[0malfabetet\u001b[0m\u001b[1;33m)\u001b[0m \u001b[1;33m-\u001b[0m\u001b[1;36m1\u001b[0m\u001b[1;33m:\u001b[0m\u001b[1;33m\u001b[0m\u001b[1;33m\u001b[0m\u001b[0m\n",
      "\u001b[1;31mValueError\u001b[0m: substring not found"
     ]
    }
   ],
   "source": [
    "# Uppgift 5 \n",
    "\n",
    "alfabetet = \"ABCDEFGHIJKLMNOPQRSTUVWXYZÅÄÖ_.\"\n",
    "\n",
    "ord = input(\"Mata in en mening: \")\n",
    "\n",
    "seperation = ord.split(\" \")\n",
    "Meddelande = seperation[0].upper()\n",
    "\n",
    "resultat = \"\"\n",
    "for letter in Meddelande:\n",
    "    PositonAvBokstav = alfabetet.index(letter)\n",
    "    PositonAvBokstav += 1\n",
    "    while PositonAvBokstav > len(alfabetet) -1:\n",
    "        PositonAvBokstav -= len(alfabetet)\n",
    "    resultat += alfabetet[PositonAvBokstav]\n",
    "\n",
    "print(resultat)\n"
   ]
  },
  {
   "cell_type": "code",
   "execution_count": null,
   "metadata": {},
   "outputs": [],
   "source": []
  }
 ]
}