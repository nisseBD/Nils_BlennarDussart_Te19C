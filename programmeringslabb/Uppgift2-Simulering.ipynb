{
 "metadata": {
  "language_info": {
   "codemirror_mode": {
    "name": "ipython",
    "version": 3
   },
   "file_extension": ".py",
   "mimetype": "text/x-python",
   "name": "python",
   "nbconvert_exporter": "python",
   "pygments_lexer": "ipython3",
   "version": "3.8.3-final"
  },
  "orig_nbformat": 2,
  "kernelspec": {
   "name": "Python 3.8.3 64-bit (conda)",
   "display_name": "Python 3.8.3 64-bit (conda)",
   "metadata": {
    "interpreter": {
     "hash": "8c0fd3f7fab6fac221adaac4cee9243092b31b85383eb63665c767af85e82a7c"
    }
   }
  }
 },
 "nbformat": 4,
 "nbformat_minor": 2,
 "cells": [
  {
   "cell_type": "code",
   "execution_count": 3,
   "metadata": {},
   "outputs": [
    {
     "output_type": "stream",
     "name": "stdout",
     "text": [
      "1\n2\n3\n4\n5\n6\n7\n8\n9\n10\n11\n12\n13\n14\n15\n16\n17\n18\n19\n20\n21\n22\n23\n24\n25\n26\n27\n28\n29\n30\n31\n32\n33\n34\n35\n36\n37\n38\n39\n40\n41\n42\n43\n44\n45\n46\n47\n48\n49\n50\n51\n52\n53\n54\n55\n56\n57\n58\n59\n60\n61\n62\n63\n64\n65\n66\n67\n68\n69\n70\n71\n72\n73\n74\n75\n76\n77\n78\n79\n80\n81\n82\n83\n84\n85\n86\n87\n88\n89\n90\n91\n92\n93\n94\n95\n96\n97\n98\n99\n100\n"
     ]
    }
   ],
   "source": [
    "# Uppgift a\n",
    "\n",
    "for i in range(1,101):\n",
    "    print(i)"
   ]
  },
  {
   "cell_type": "code",
   "execution_count": 1,
   "metadata": {},
   "outputs": [
    {
     "output_type": "stream",
     "name": "stdout",
     "text": [
      "1\n2\n3\n4\nburr\n6\n7\n8\n9\nburr\n11\n12\n13\n14\nburr\n16\n17\n18\n19\nburr\n21\n22\n23\n24\nburr\n26\n27\n28\n29\nburr\n31\n32\n33\n34\nburr\n36\n37\n38\n39\nburr\n41\n42\n43\n44\nburr\n46\n47\n48\n49\nburr\n51\n52\n53\n54\nburr\n56\n57\n58\n59\nburr\n61\n62\n63\n64\nburr\n66\n67\n68\n69\nburr\n71\n72\n73\n74\nburr\n76\n77\n78\n79\nburr\n81\n82\n83\n84\nburr\n86\n87\n88\n89\nburr\n91\n92\n93\n94\nburr\n96\n97\n98\n99\nburr\n"
     ]
    }
   ],
   "source": [
    "# Uppgift b\n",
    "\n",
    "for tal in range(1,101):\n",
    "    if tal%5 == 0: # Burr uppstår när talet divideras och blir 0\n",
    "        print(\"burr\")\n",
    "    else: \n",
    "        print(i)"
   ]
  },
  {
   "cell_type": "code",
   "execution_count": 35,
   "metadata": {},
   "outputs": [
    {
     "output_type": "stream",
     "name": "stdout",
     "text": [
      "1\n2\n3\n4\nburr\n6\n7\n8\n9\nburr\n11\n12\n13\n14\nburr\n16\n17\n18\n19\nburr\n21\n22\n23\n24\nburr\n26\n27\n28\n29\nburr\n31\n32\n33\n34\nburr\n36\n37\n38\n39\nburr\n41\n42\n43\n44\nburr\n46\n47\n48\n49\nburr\n51\n52\n53\n54\nburr\n56\n57\n58\n59\nburr\n61\n62\n63\n64\nburr\n66\n67\n68\n69\nburr\n71\n72\n73\n74\nburr\n76\n77\n78\n79\nburr\n81\n82\n83\n84\nburr\n86\n87\n88\n89\nburr\n91\n92\n93\n94\nburr\n96\n97\n98\n99\nburr\n"
     ]
    }
   ],
   "source": [
    "# Uppgift c\n",
    "\n",
    "tal = int(input(\"Ange ett positivt heltal: \"))\n",
    "\n",
    "for i in range(1,101):\n",
    "    if i%tal == 0:\n",
    "        print(\"burr\")\n",
    "    else: \n",
    "        print(i)"
   ]
  },
  {
   "cell_type": "code",
   "execution_count": 34,
   "metadata": {},
   "outputs": [
    {
     "output_type": "stream",
     "name": "stdout",
     "text": [
      "1\n2\n3\n4\nburr\n6\n7\n8\n9\nburr\n11\n12\n13\n14\nburr\n16\n17\n18\n19\nburr\n21\n22\n23\n24\nburr\n26\n27\n28\n29\nburr\n31\n32\n33\n34\nburr\n36\n37\n38\n39\nburr\n41\n42\n43\n44\nburr\n46\n47\n48\n49\nburr\n51\n52\n53\n54\nburr\n56\n57\n58\n59\nburr\n61\n62\n63\n64\nburr\n66\n67\n68\n69\nburr\n71\n72\n73\n74\nburr\n76\n77\n78\n79\nburr\n81\n82\n83\n84\nburr\n86\n87\n88\n89\nburr\n91\n92\n93\n94\nburr\n96\n97\n98\n99\nburr\n"
     ]
    }
   ],
   "source": [
    "# Uppgift d\n",
    "\n",
    "tal1 = int(input(\"Ange ett positivt heltal för burr: \"))\n",
    "tal2 = int(input(\"Ange ett till positivt heltal för birr: \"))\n",
    "\n",
    "for i in range(1,101):\n",
    "    if i%tal1 == 0:\n",
    "        print(\"burr\")\n",
    "    elif i%tal2 == 0: \n",
    "        print(\"birr\")\n",
    "    else: \n",
    "        print(i)\n"
   ]
  },
  {
   "cell_type": "code",
   "execution_count": 3,
   "metadata": {},
   "outputs": [
    {
     "output_type": "stream",
     "name": "stdout",
     "text": [
      "Antal burr var 0, antal birr var 0 och antal BurrBirr var 0.\n"
     ]
    }
   ],
   "source": [
    "# Uppgift e\n",
    "\n",
    "start = int(input(\"Ange ett positivt heltal som ska vara starttal: \")) # Talet man börjar på\n",
    "slut = int(input(\"Ange ett positivt heltal som ska vara sluttalet: \")) # Talet man avslutar på\n",
    "tal1 = int(input(\"Ange ett positivt heltal som ska vara burr: \"))\n",
    "tal2 = int(input(\"Ange ett positivt heltal som ska vara birr: \"))\n",
    "\n",
    "burr = 0\n",
    "birr = 0\n",
    "burrbirr = 0\n",
    "\n",
    "for i in range(start,slut + 1):\n",
    "    if i%tal1 == 0 and i%tal2 == 0: \n",
    "        print(\"BurrBirr\") # Om båda rester på burr och birr blir 0 så printas \"BurrBirr\"\n",
    "        burrbirr += 1\n",
    "    elif i%tal1 == 0: \n",
    "        print(\"burr\")\n",
    "        burr += 1\n",
    "    elif i%tal2 == 0: \n",
    "        print(\"birr\")\n",
    "        birr += 1\n",
    "    else: \n",
    "        print(i)\n",
    "\n",
    "print(f\"Antal burr var {burr}, antal birr var {birr} och antal BurrBirr var {burrbirr}.\")"
   ]
  },
  {
   "cell_type": "code",
   "execution_count": null,
   "metadata": {},
   "outputs": [],
   "source": [
    "# Uppgift e\n",
    "\n",
    "# Man hade kunnat göra det till en applikation där man manuelt skriver in birr och burr och så kanske det visas upp på något coolt sätt. "
   ]
  }
 ]
}