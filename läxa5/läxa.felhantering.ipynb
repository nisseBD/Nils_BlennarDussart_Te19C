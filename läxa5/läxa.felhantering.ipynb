{
 "metadata": {
  "language_info": {
   "codemirror_mode": {
    "name": "ipython",
    "version": 3
   },
   "file_extension": ".py",
   "mimetype": "text/x-python",
   "name": "python",
   "nbconvert_exporter": "python",
   "pygments_lexer": "ipython3",
   "version": "3.8.3-final"
  },
  "orig_nbformat": 2,
  "kernelspec": {
   "name": "python3",
   "display_name": "Python 3",
   "language": "python"
  }
 },
 "nbformat": 4,
 "nbformat_minor": 2,
 "cells": [
  {
   "cell_type": "code",
   "execution_count": 3,
   "metadata": {},
   "outputs": [
    {
     "output_type": "stream",
     "name": "stdout",
     "text": [
      "0.7071067811865476\n"
     ]
    }
   ],
   "source": [
    "# Uppgift 1\n",
    "\n",
    "import math\n",
    "\n",
    "def distance(x, y):\n",
    "    return math.sqrt(x**2+y**2)\n",
    "\n",
    "print(distance(0.5,0.5))"
   ]
  },
  {
   "cell_type": "code",
   "execution_count": 2,
   "metadata": {},
   "outputs": [
    {
     "output_type": "stream",
     "name": "stdout",
     "text": [
      "100 är inte fyrsiffrigt\n231 är inte fyrsiffrigt\n10000 är inte fyrsiffrigt\n10001 är inte fyrsiffrigt\n-1000 är fyrsiffrigt\n102313 är inte fyrsiffrigt\n"
     ]
    }
   ],
   "source": [
    "# Uppgift 2\n",
    "\n",
    "def ar_fyrsirigt(tal):\n",
    "    if tal//1000 < 10 and tal//1000 >-10 and tal//1000 != 0:\n",
    "        return True\n",
    "    else:\n",
    "        return False\n",
    "\n",
    "# testprogram\n",
    "testtal = [100, 231, 10000, 10001, -1000, 102313]\n",
    "\n",
    "for t in testtal:\n",
    "    if ar_fyrsirigt(t):\n",
    "        print(f\"{t} är fyrsiffrigt\")\n",
    "    else:\n",
    "        print(f\"{t} är inte fyrsiffrigt\")"
   ]
  },
  {
   "cell_type": "code",
   "execution_count": 19,
   "metadata": {},
   "outputs": [
    {
     "output_type": "stream",
     "name": "stdout",
     "text": [
      "Du bör köpa engångsbiljetter! Kostnaden blir 250kr\n"
     ]
    }
   ],
   "source": [
    "# Uppgift 3\n",
    "\n",
    "while True:\n",
    "    try:\n",
    "        biljett = int(input(\"Hur många gånger vill du åka tåg? \"))\n",
    "        assert biljett >= 1 and biljett <= 100, \"Du kan max köpa 100 biljetter och får minst köpa 1 biljett\"\n",
    "        break\n",
    "        \n",
    "    except AssertionError as msg:\n",
    "        print(msg)\n",
    "    except:\n",
    "        print(\"Du bör lägga in siffror\")\n",
    "\n",
    "engång = 50\n",
    "månad = 500\n",
    "\n",
    "if biljett * engång == månad:\n",
    "    print(\"Det kostar lika mycket med engångsbiljetter som månadskort!\")\n",
    "elif biljett * engång < månad:\n",
    "    print(f\"Du bör köpa engångsbiljetter! Kostnaden blir {biljett*engång}kr\")\n",
    "else:\n",
    "    print(f\"Du bör köpa månadsbiljett! Du tjänar {biljett*engång-månad}kr på att köpa månadskort\")"
   ]
  },
  {
   "cell_type": "code",
   "execution_count": null,
   "metadata": {},
   "outputs": [],
   "source": []
  }
 ]
}