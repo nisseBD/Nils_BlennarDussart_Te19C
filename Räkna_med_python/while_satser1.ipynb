{
 "metadata": {
  "language_info": {
   "codemirror_mode": {
    "name": "ipython",
    "version": 3
   },
   "file_extension": ".py",
   "mimetype": "text/x-python",
   "name": "python",
   "nbconvert_exporter": "python",
   "pygments_lexer": "ipython3",
   "version": "3.8.3-final"
  },
  "orig_nbformat": 2,
  "kernelspec": {
   "name": "Python 3.8.3 64-bit ('base': conda)",
   "display_name": "Python 3.8.3 64-bit ('base': conda)",
   "metadata": {
    "interpreter": {
     "hash": "8c0fd3f7fab6fac221adaac4cee9243092b31b85383eb63665c767af85e82a7c"
    }
   }
  }
 },
 "nbformat": 4,
 "nbformat_minor": 2,
 "cells": [
  {
   "cell_type": "code",
   "execution_count": 1,
   "metadata": {
    "tags": []
   },
   "outputs": [
    {
     "output_type": "stream",
     "name": "stdout",
     "text": "då\n"
    }
   ],
   "source": [
    "'''\n",
    "    multiline kommentar\n",
    "\n",
    "    x = 5\n",
    "    print(\"hej\")\n",
    "    \n",
    "'''\n",
    "\n",
    "print(\"då\")"
   ]
  },
  {
   "cell_type": "code",
   "execution_count": 6,
   "metadata": {
    "tags": []
   },
   "outputs": [
    {
     "output_type": "stream",
     "name": "stdout",
     "text": "Jämna tal från 0-10\n0 2 4 6 8 10 "
    }
   ],
   "source": [
    "print(\"Jämna tal från 0-10\")\n",
    "n = 0\n",
    "while n <= 10:\n",
    "    print(f\"{n}\", end=\" \")\n",
    "    n += 2"
   ]
  },
  {
   "source": [
    "# Miljöutsläpp\n",
    "\n",
    "Ett miljöutsläpp halverar fågelpopulation i en ö varje år.\n",
    "\n",
    "Fågelpopulationen började på 8000st\n",
    "\n",
    "Hur många år tar det tills populationen blir mindre än en tiondel"
   ],
   "cell_type": "markdown",
   "metadata": {}
  },
  {
   "cell_type": "code",
   "execution_count": 9,
   "metadata": {
    "tags": []
   },
   "outputs": [
    {
     "output_type": "stream",
     "name": "stdout",
     "text": "År 0: antal fåglar: 8000\nÅr 1: antal fåglar: 4000.0st\nÅr 2: antal fåglar: 2000.0st\nÅr 3: antal fåglar: 1000.0st\nÅr 4: antal fåglar: 500.0st\nDet tar 4 år tills fågelpopulationen understiger en tiondel\n"
    }
   ],
   "source": [
    "f = 8000\n",
    "år = 0\n",
    "\n",
    "print(f\"År {år}: antal fåglar: {f}\")\n",
    "\n",
    "while f >= 800:\n",
    "    f /= 2\n",
    "    år += 1\n",
    "    print(f\"År {år}: antal fåglar: {f}st\")\n",
    "\n",
    "print(f\"Det tar {år} år tills fågelpopulationen understiger en tiondel\") "
   ]
  },
  {
   "cell_type": "code",
   "execution_count": 2,
   "metadata": {
    "tags": []
   },
   "outputs": [
    {
     "output_type": "stream",
     "name": "stdout",
     "text": "5050\n"
    }
   ],
   "source": [
    "tal = 0\n",
    "s = 0\n",
    "\n",
    "while tal <= 99:\n",
    "    tal += 1\n",
    "    s += tal\n",
    "\n",
    "print(s)"
   ]
  },
  {
   "cell_type": "code",
   "execution_count": 4,
   "metadata": {
    "tags": []
   },
   "outputs": [
    {
     "output_type": "stream",
     "name": "stdout",
     "text": "2550\n"
    }
   ],
   "source": [
    "tal = 0\n",
    "s = 0\n",
    "\n",
    "while tal <= 99:\n",
    "    tal += 2\n",
    "    s += tal\n",
    "\n",
    "print(s)"
   ]
  },
  {
   "cell_type": "code",
   "execution_count": 1,
   "metadata": {},
   "outputs": [
    {
     "output_type": "stream",
     "name": "stdout",
     "text": [
      "1+3+5+7+9 = 25\n"
     ]
    }
   ],
   "source": [
    "n = 1\n",
    "summa = 0\n",
    "\n",
    "while n < 10:\n",
    "    summa = summa + n\n",
    "    n += 2\n",
    "\n",
    "print(f\"1+3+5+7+9 = {summa}\")"
   ]
  },
  {
   "cell_type": "code",
   "execution_count": 7,
   "metadata": {},
   "outputs": [
    {
     "output_type": "stream",
     "name": "stdout",
     "text": [
      "1 timmar och 2250000.0 bakterier\n2 timmar och 3375000.0 bakterier\n3 timmar och 5062500.0 bakterier\n4 timmar och 7593750.0 bakterier\n5 timmar och 11390625.0 bakterier\ndet tar 5 timmar för mjölken att bli sur\n"
     ]
    }
   ],
   "source": [
    "bakterier = 1500000\n",
    "timmar = 0\n",
    "\n",
    "while bakterier < 10000000:\n",
    "    bakterier *= 1.5\n",
    "    timmar += 1\n",
    "    print(f\"{timmar} timmar och {bakterier} bakterier\")\n",
    "\n",
    "print(f\"det tar {timmar} timmar för mjölken att bli sur\")   "
   ]
  },
  {
   "cell_type": "code",
   "execution_count": 8,
   "metadata": {},
   "outputs": [
    {
     "output_type": "error",
     "ename": "SyntaxError",
     "evalue": "invalid syntax (<ipython-input-8-a4d62f6e2954>, line 5)",
     "traceback": [
      "\u001b[1;36m  File \u001b[1;32m\"<ipython-input-8-a4d62f6e2954>\"\u001b[1;36m, line \u001b[1;32m5\u001b[0m\n\u001b[1;33m    s **-= 1\u001b[0m\n\u001b[1;37m        ^\u001b[0m\n\u001b[1;31mSyntaxError\u001b[0m\u001b[1;31m:\u001b[0m invalid syntax\n"
     ]
    }
   ],
   "source": [
    "s = 0\n",
    "n = 0\n",
    "\n",
    "while n < 100:\n",
    "    s = s + 2**(-n)\n",
    "    n = n +1   \n",
    "\n",
    "print(s)"
   ]
  },
  {
   "cell_type": "code",
   "execution_count": null,
   "metadata": {},
   "outputs": [],
   "source": []
  }
 ]
}