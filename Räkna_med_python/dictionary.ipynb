{
 "metadata": {
  "language_info": {
   "codemirror_mode": {
    "name": "ipython",
    "version": 3
   },
   "file_extension": ".py",
   "mimetype": "text/x-python",
   "name": "python",
   "nbconvert_exporter": "python",
   "pygments_lexer": "ipython3",
   "version": "3.8.3-final"
  },
  "orig_nbformat": 2,
  "kernelspec": {
   "name": "python3",
   "display_name": "Python 3.8.3 64-bit (conda)",
   "metadata": {
    "interpreter": {
     "hash": "8c0fd3f7fab6fac221adaac4cee9243092b31b85383eb63665c767af85e82a7c"
    }
   }
  }
 },
 "nbformat": 4,
 "nbformat_minor": 2,
 "cells": [
  {
   "source": [
    "# Dictionary\n",
    "- key:value par\n",
    "- metafor: vanlig ordlista/lexikon"
   ],
   "cell_type": "markdown",
   "metadata": {}
  },
  {
   "cell_type": "code",
   "execution_count": 3,
   "metadata": {},
   "outputs": [
    {
     "output_type": "stream",
     "name": "stdout",
     "text": [
      "Kokchun är lärare och jobbar på NTI\n"
     ]
    }
   ],
   "source": [
    "# syntax för dictionary\n",
    "\n",
    "person = dict(\n",
    "    namn = \"Kokchun\",\n",
    "    ålder = \"15\",\n",
    "    yrke = \"lärare\",\n",
    "    arbetsplats = \"NTI\"\n",
    ")\n",
    "\n",
    "print(f\"{person['namn']} är {person['yrke']} och jobbar på {person['arbetsplats']}\")"
   ]
  },
  {
   "cell_type": "code",
   "execution_count": 15,
   "metadata": {},
   "outputs": [
    {
     "output_type": "stream",
     "name": "stdout",
     "text": [
      "Ord vi behöver lära oss: \ntilldela  \t ge ett värde till en variabel\ndatastruktur  \t strukturering av data\nsträng  \t sekvens av tecken\ndictionary  \t datastruktur för att spara data i key:value par\n\n\nGloslista\ntilldela  \t ge ett värde till en variabel\ndatastruktur  \t strukturering av data\nsträng  \t sekvens av tecken\ndictionary  \t datastruktur för att spara data i key:value par\n"
     ]
    }
   ],
   "source": [
    "# syntax med {}\n",
    "\n",
    "glosor = {\n",
    "    \"tilldela\": \"ge ett värde till en variabel\",\n",
    "    \"datastruktur\": \"strukturering av data\",\n",
    "    \"sträng\": \"sekvens av tecken\"\n",
    "}\n",
    "\n",
    "# lägga till ett element\n",
    "glosor[\"dictionary\"] = \"datastruktur för att spara data i key:value par\"\n",
    "\n",
    "\n",
    "   # print(glosor[\"tilldela\"])\n",
    "    #print(glosor[\"sträng\"])\n",
    "    #print(glosor[\"dictionary\"])\n",
    "\n",
    "print(\"Ord vi behöver lära oss: \")\n",
    "# ett sätt att loopa igenom ett dictionary\n",
    "for key in glosor:\n",
    "    print(f\"{key}  \\t {glosor[key]}\")\n",
    "\n",
    "print(\"\\n\\nGloslista\")\n",
    "# ett annat sätt\n",
    "for key, value in glosor.items():\n",
    "    print(f\"{key}  \\t {value}\")\n"
   ]
  },
  {
   "cell_type": "code",
   "execution_count": 1,
   "metadata": {},
   "outputs": [
    {
     "output_type": "stream",
     "name": "stdout",
     "text": [
      "{'0': 6, '1': 3, '2': 2, '3': 2, '4': 8, '5': 3, '6': 4, '7': 10, '8': 8, '9': 3}\n"
     ]
    }
   ],
   "source": [
    "# for-sats för att generera key-value par\n",
    "import random as rnd\n",
    "\n",
    "siffror = {}\n",
    "\n",
    "for i in range(10):\n",
    "    slumptal = rnd.randint(1,10)\n",
    "    siffror[f\"{i}\"] = slumptal\n",
    "\n",
    "print(siffror)"
   ]
  },
  {
   "cell_type": "code",
   "execution_count": null,
   "metadata": {},
   "outputs": [],
   "source": []
  }
 ]
}