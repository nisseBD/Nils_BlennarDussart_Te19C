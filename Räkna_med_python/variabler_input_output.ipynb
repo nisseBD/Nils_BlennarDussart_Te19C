{
 "metadata": {
  "language_info": {
   "codemirror_mode": {
    "name": "ipython",
    "version": 3
   },
   "file_extension": ".py",
   "mimetype": "text/x-python",
   "name": "python",
   "nbconvert_exporter": "python",
   "pygments_lexer": "ipython3",
   "version": "3.8.3-final"
  },
  "orig_nbformat": 2,
  "kernelspec": {
   "name": "python_defaultSpec_1599809468371",
   "display_name": "Python 3.8.3 64-bit ('base': conda)"
  }
 },
 "nbformat": 4,
 "nbformat_minor": 2,
 "cells": [
  {
   "cell_type": "markdown",
   "metadata": {
    "tags": []
   },
   "source": [
    "# Notebook\n",
    "\n",
    "Detta är en Jupyter Notebook"
   ]
  },
  {
   "cell_type": "code",
   "execution_count": null,
   "metadata": {},
   "outputs": [],
   "source": []
  },
  {
   "cell_type": "code",
   "execution_count": 5,
   "metadata": {
    "tags": []
   },
   "outputs": [
    {
     "output_type": "stream",
     "name": "stdout",
     "text": "Din tyngdkraft är 1964.0N\n"
    }
   ],
   "source": [
    "g = 9.82\n",
    "m = float(input(\"din vikt: \"))\n",
    "F = g*m\n",
    "\n",
    "print(f\"Din tyngdkraft är {F}N\")"
   ]
  },
  {
   "cell_type": "code",
   "execution_count": 8,
   "metadata": {
    "tags": []
   },
   "outputs": [
    {
     "output_type": "stream",
     "name": "stdout",
     "text": "Det blir 65.0%\n"
    }
   ],
   "source": [
    "d = float(input(\"ange ett decimaltal: \"))\n",
    "p = d*100\n",
    "\n",
    "print(f\"Det blir {p}%\")"
   ]
  },
  {
   "cell_type": "code",
   "execution_count": 18,
   "metadata": {
    "tags": []
   },
   "outputs": [
    {
     "output_type": "stream",
     "name": "stdout",
     "text": "Temperaturen är -263.15 celsius\n"
    }
   ],
   "source": [
    "k = float(input(\"ange temperatur i Kelvin: \"))\n",
    "c = k-273.15\n",
    "\n",
    "print(f\"Temperaturen är {c} celsius\")"
   ]
  },
  {
   "cell_type": "code",
   "execution_count": 32,
   "metadata": {
    "tags": []
   },
   "outputs": [
    {
     "output_type": "stream",
     "name": "stdout",
     "text": "Det kostar 150.0 kronor, du bör inte köpa månadskort!\n"
    }
   ],
   "source": [
    "e = 30\n",
    "m = 775\n",
    "\n",
    "g = float(input(\"Hur många gånger åker du med västtrafik?: \"))\n",
    "\n",
    "k= e*g\n",
    "\n",
    "if k > m:\n",
    "    print(f\"Det kostar {k} kronor, du bör köpa månadskort!\")\n",
    "elif k < m:\n",
    "    print(f\"Det kostar {k} kronor, du bör inte köpa månadskort!\")\n",
    "    \n",
    "\n"
   ]
  },
  {
   "cell_type": "markdown",
   "metadata": {},
   "source": [
    "#NOTEBOOK\n",
    "\n",
    "##ÖVNINGSHÄFTE"
   ]
  },
  {
   "cell_type": "code",
   "execution_count": 1,
   "metadata": {
    "tags": []
   },
   "outputs": [
    {
     "output_type": "stream",
     "name": "stdout",
     "text": "Den andre kateten är 4.0 cm\n"
    }
   ],
   "source": [
    "import math\n",
    "k = 3\n",
    "h = 5\n",
    "hk = (5**2-3**2)\n",
    "\n",
    "k2 = round(math.sqrt(hk), 3)\n",
    " \n",
    "print(f\"Den andre kateten är {k2} cm\")"
   ]
  },
  {
   "cell_type": "code",
   "execution_count": 2,
   "metadata": {
    "tags": []
   },
   "outputs": [
    {
     "output_type": "stream",
     "name": "stdout",
     "text": "Arean på triangeln är 7.5!\n"
    }
   ],
   "source": [
    "b = float(input(\"basen på triangeln: \"))\n",
    "h = float(input(\"höjden på triangeln: \"))\n",
    "\n",
    "a = (b*h)/2\n",
    "\n",
    "print(f\"Arean på triangeln är {a}!\")"
   ]
  },
  {
   "cell_type": "code",
   "execution_count": 6,
   "metadata": {
    "tags": []
   },
   "outputs": [
    {
     "output_type": "stream",
     "name": "stdout",
     "text": "ph värdet är 7.0\n"
    }
   ],
   "source": [
    "h = 1*10**(-7)\n",
    "pH = -math.log10(h) \n",
    "print(f\"ph värdet är {pH}\")"
   ]
  },
  {
   "cell_type": "code",
   "execution_count": 13,
   "metadata": {
    "tags": []
   },
   "outputs": [
    {
     "output_type": "stream",
     "name": "stdout",
     "text": "avståndet mellan koordinaterna är 0.0!\n"
    }
   ],
   "source": [
    "x1 = float(input(\"Vad är x1 koordinater: \"))\n",
    "y1 = float(input(\"Vad är y1 koordinaten: \"))\n",
    "x2 = float(input(\"Vad är x2 koordinaten: \"))\n",
    "y2 = float(input(\"Vad är y2 koordinaten: \"))\n",
    "\n",
    "y = y1, y2\n",
    "x = x1, x2\n",
    "\n",
    "d = round(math.sqrt((x2-x1)**2+(y2-y1)**2), 3)\n",
    "\n",
    "print(f\"avståndet mellan koordinaterna är {d}!\")\n"
   ]
  },
  {
   "cell_type": "markdown",
   "metadata": {},
   "source": [
    "# IF satser"
   ]
  },
  {
   "cell_type": "code",
   "execution_count": null,
   "metadata": {},
   "outputs": [],
   "source": [
    "tal = int(input(\"sätt in ett tal: \"))\n",
    "\n",
    "if tal%2 == 0:\n",
    "    print(\"talet är jämnt\")\n",
    "else:\n",
    "    print(\"talet är udda\")"
   ]
  },
  {
   "cell_type": "code",
   "execution_count": null,
   "metadata": {},
   "outputs": [],
   "source": []
  }
 ]
}