{
 "metadata": {
  "language_info": {
   "codemirror_mode": {
    "name": "ipython",
    "version": 3
   },
   "file_extension": ".py",
   "mimetype": "text/x-python",
   "name": "python",
   "nbconvert_exporter": "python",
   "pygments_lexer": "ipython3",
   "version": "3.8.3-final"
  },
  "orig_nbformat": 2,
  "kernelspec": {
   "name": "python3",
   "display_name": "Python 3",
   "language": "python"
  }
 },
 "nbformat": 4,
 "nbformat_minor": 2,
 "cells": [
  {
   "source": [
    "# Felhantering\n"
   ],
   "cell_type": "markdown",
   "metadata": {}
  },
  {
   "cell_type": "code",
   "execution_count": 10,
   "metadata": {},
   "outputs": [
    {
     "output_type": "stream",
     "name": "stdout",
     "text": [
      "Ålder ska vara ett tal och inte sträng\n",
      "Ålder ska vara ett tal och inte sträng\n",
      "Ålder ska vara ett tal och inte sträng\n",
      "Ålder ska vara ett tal och inte sträng\n",
      "Ålder ska vara ett tal och inte sträng\n",
      "Din ålder ska vara mellan 0 och 124\n",
      "Ålder ska vara ett tal och inte sträng\n",
      "Ålder ska vara ett tal och inte sträng\n",
      "Du är barn\n"
     ]
    }
   ],
   "source": [
    "while True:\n",
    "    try:\n",
    "        ålder = int(input(\"Hur gammal är du?\"))\n",
    "        assert ålder >= 0 and ålder < 125, \"Din ålder ska vara mellan 0 och 124\"\n",
    "        break\n",
    "    except AssertionError as msg:\n",
    "        print(msg)\n",
    "    except:\n",
    "        print(\"Ålder ska vara ett tal och inte sträng\")\n",
    "\n",
    "if ålder >= 18:\n",
    "    print(\"Du är vuxen\")\n",
    "else:\n",
    "    print(\"Du är barn\")"
   ]
  },
  {
   "cell_type": "code",
   "execution_count": null,
   "metadata": {},
   "outputs": [],
   "source": []
  }
 ]
}