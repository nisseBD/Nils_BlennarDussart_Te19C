{
 "metadata": {
  "language_info": {
   "codemirror_mode": {
    "name": "ipython",
    "version": 3
   },
   "file_extension": ".py",
   "mimetype": "text/x-python",
   "name": "python",
   "nbconvert_exporter": "python",
   "pygments_lexer": "ipython3",
   "version": "3.8.3-final"
  },
  "orig_nbformat": 2,
  "kernelspec": {
   "name": "python_defaultSpec_1600411183299",
   "display_name": "Python 3.8.3 64-bit ('base': conda)"
  }
 },
 "nbformat": 4,
 "nbformat_minor": 2,
 "cells": [
  {
   "source": [
    "# Provbetyg\n",
    "\n",
    "x - antal poäng\n",
    "\n",
    "A: $x > 60$\n",
    "\n",
    "B: 56-60\n",
    "\n",
    "C: 51-55\n",
    "\n",
    "D: 41-50\n",
    "\n",
    "E: 31-40\n",
    "\n",
    "F: $x < 30$\n",
    "\n",
    "Slumpa fram en poäng mellan 0 och 65 och ge ett betyg till eleven"
   ],
   "cell_type": "markdown",
   "metadata": {}
  },
  {
   "cell_type": "code",
   "execution_count": 92,
   "metadata": {
    "tags": []
   },
   "outputs": [
    {
     "output_type": "stream",
     "name": "stdout",
     "text": "Eleven Tatiana fick 30 poäng, vilket ger betyg F\n"
    }
   ],
   "source": [
    "import random as rnd \n",
    "\n",
    "poang = rnd.randint(0,65)\n",
    "\n",
    "# skapat en lista som håller 6 strängar\n",
    "klass = [\"Kokchun\", \"Tommy\", \"Henrik\", \"Zsofia\", \"Simon\", \"Tatiana\"]\n",
    "\n",
    "if poang <= 30:\n",
    "    betyg = \"F\"\n",
    "elif poang <= 40:\n",
    "    betyg = \"E\"\n",
    "elif poang <= 50:\n",
    "    betyg = \"D\"\n",
    "elif poang <= 55:\n",
    "    betyg = \"C\"\n",
    "elif poang <= 60:\n",
    "    betyg = \"B\"\n",
    "else: betyg = \"A\"\n",
    "\n",
    "elev = rnd.choice(klass)\n",
    "\n",
    "print(f\"Eleven {elev} fick {poang} poäng, vilket ger betyg {betyg}\")\n",
    "\n",
    "# utökning av programmet: gör en for-sats som loopar igenom klassen och ta bort elever som vi använt"
   ]
  },
  {
   "cell_type": "code",
   "execution_count": null,
   "metadata": {},
   "outputs": [],
   "source": []
  }
 ]
}