{
 "metadata": {
  "language_info": {
   "codemirror_mode": {
    "name": "ipython",
    "version": 3
   },
   "file_extension": ".py",
   "mimetype": "text/x-python",
   "name": "python",
   "nbconvert_exporter": "python",
   "pygments_lexer": "ipython3",
   "version": "3.8.3-final"
  },
  "orig_nbformat": 2,
  "kernelspec": {
   "name": "python3",
   "display_name": "Python 3"
  }
 },
 "nbformat": 4,
 "nbformat_minor": 2,
 "cells": [
  {
   "cell_type": "code",
   "execution_count": 1,
   "metadata": {},
   "outputs": [
    {
     "output_type": "stream",
     "name": "stdout",
     "text": [
      "101.0\n"
     ]
    }
   ],
   "source": [
    "# Uppgift 1 a)\n",
    "\n",
    "def aritmetisk_summa(a1,n,an):\n",
    "    sn = (n*(a1+an))/2\n",
    "    return sn\n",
    " \n",
    "summa = aritmetisk_summa(1,2,100)\n",
    "\n",
    "print(summa)"
   ]
  },
  {
   "cell_type": "code",
   "execution_count": 15,
   "metadata": {},
   "outputs": [
    {
     "output_type": "stream",
     "name": "stdout",
     "text": [
      "5050.0\n"
     ]
    }
   ],
   "source": [
    "# Uppgift 1 b)\n",
    "\n",
    "def aritmetisk_summa(a1,n,an):\n",
    "    sn = (n*(a1+an))/2\n",
    "    return sn\n",
    " \n",
    "summa = aritmetisk_summa(1,100,100)\n",
    "\n",
    "print(summa)"
   ]
  },
  {
   "cell_type": "code",
   "execution_count": 16,
   "metadata": {},
   "outputs": [
    {
     "output_type": "stream",
     "name": "stdout",
     "text": [
      "Aritmetisk summa av talen är: 5050.0\n"
     ]
    }
   ],
   "source": [
    "# Uppgift 1 c)\n",
    "\n",
    "a1 = int(input(\"Mata starttalet: \"))\n",
    "n = int(input(\"Mata in följdtalet: \"))\n",
    "an = int(input(\"Mata in sluttalet\"))\n",
    "\n",
    "def aritmetisk_summa(a1,n,an):\n",
    "    sn = (n*(a1+an))/2\n",
    "    return sn\n",
    " \n",
    "summa = aritmetisk_summa(a1,n,an)\n",
    "\n",
    "print(f\"Aritmetisk summa av talen är: {summa}\")"
   ]
  },
  {
   "cell_type": "code",
   "execution_count": 33,
   "metadata": {},
   "outputs": [
    {
     "output_type": "stream",
     "name": "stdout",
     "text": [
      "121 = 1 + 3 + 5 + ... + (2n+1)\n"
     ]
    }
   ],
   "source": [
    "# Uppgift 2 a)\n",
    "\n",
    "n = int(input(\"Mata in följdtalet: \"))\n",
    "\n",
    "def funktion(n):\n",
    "    summa = 0\n",
    "    for i in range(0, n+1):\n",
    "        summa += (2*i + 1)\n",
    "    return summa\n",
    "\n",
    "print(f\"{funktion(n)} = 1 + 3 + 5 + ... + (2n+1)\")"
   ]
  },
  {
   "cell_type": "code",
   "execution_count": 34,
   "metadata": {},
   "outputs": [
    {
     "output_type": "stream",
     "name": "stdout",
     "text": [
      "5 = 1 + 3 + 5 + ... + (2n+1)\n"
     ]
    }
   ],
   "source": [
    "# Uppgift 2 a)\n",
    "\n",
    "start = int(input(\"Ange startvärde: \"))\n",
    "n = int(input(\"Mata in följdtalet: \"))\n",
    "\n",
    "def funktion(n):\n",
    "    summa = start\n",
    "    for i in range(0, n+1):\n",
    "        summa += (2*i + 1)\n",
    "    return summa\n",
    "\n",
    "print(f\"{funktion(n)} = {start} + {start+2} + {start+4} + ... + (2n+1)\")"
   ]
  },
  {
   "cell_type": "code",
   "execution_count": 38,
   "metadata": {},
   "outputs": [
    {
     "output_type": "stream",
     "name": "stdout",
     "text": [
      "5.385164807134504\n"
     ]
    }
   ],
   "source": [
    "# Uppgift 3 a)\n",
    "\n",
    "import math \n",
    "\n",
    "def funktion(x,y):\n",
    "    a = math.sqrt(x**2+y**2)\n",
    "    return a\n",
    "\n",
    "print(funktion(5,2))"
   ]
  },
  {
   "cell_type": "code",
   "execution_count": 52,
   "metadata": {},
   "outputs": [
    {
     "output_type": "stream",
     "name": "stdout",
     "text": [
      "164.20109622045769\n"
     ]
    }
   ],
   "source": [
    "# Uppgift 3 b och c)\n",
    "\n",
    "import math\n",
    "\n",
    "x1 = int(input(\"Ange ett neutralt tal  för x1: \"))\n",
    "y1 = int(input(\"Ange ett neutralt tal  för y1: \"))\n",
    "x2 = int(input(\"Ange ett neutralt tal  för x2: \"))\n",
    "y2 = int(input(\"Ange ett neutralt tal  för y2: \"))\n",
    "\n",
    "def funktion(x1,y1,x2,y2):\n",
    "    d = math.sqrt((x2-x1)**2+(y2-y1)**2)\n",
    "    return d\n",
    "\n",
    "print(funktion(x1,y1,x2,y2))"
   ]
  },
  {
   "cell_type": "code",
   "execution_count": null,
   "metadata": {},
   "outputs": [],
   "source": []
  }
 ]
}