{
 "metadata": {
  "language_info": {
   "codemirror_mode": {
    "name": "ipython",
    "version": 3
   },
   "file_extension": ".py",
   "mimetype": "text/x-python",
   "name": "python",
   "nbconvert_exporter": "python",
   "pygments_lexer": "ipython3",
   "version": "3.8.3-final"
  },
  "orig_nbformat": 2,
  "kernelspec": {
   "name": "Python 3.8.3 64-bit ('base')",
   "display_name": "Python 3.8.3 64-bit ('base')",
   "metadata": {
    "interpreter": {
     "hash": "8c0fd3f7fab6fac221adaac4cee9243092b31b85383eb63665c767af85e82a7c"
    }
   }
  }
 },
 "nbformat": 4,
 "nbformat_minor": 2,
 "cells": [
  {
   "cell_type": "code",
   "execution_count": 1,
   "metadata": {
    "tags": []
   },
   "outputs": [
    {
     "output_type": "stream",
     "name": "stdout",
     "text": "1\n2\n3\n4\n5\n6\n7\n8\n9\n10\n"
    }
   ],
   "source": [
    "for i in range(1,11):\n",
    "    print(i)"
   ]
  },
  {
   "cell_type": "code",
   "execution_count": 2,
   "metadata": {
    "tags": []
   },
   "outputs": [
    {
     "output_type": "stream",
     "name": "stdout",
     "text": "-10\n-9\n-8\n-7\n-6\n-5\n-4\n-3\n-2\n-1\n0\n1\n2\n3\n4\n5\n6\n7\n8\n9\n10\n"
    }
   ],
   "source": [
    "for i in range(-10,11):\n",
    "    print(i)"
   ]
  },
  {
   "cell_type": "code",
   "execution_count": 12,
   "metadata": {
    "tags": []
   },
   "outputs": [
    {
     "output_type": "stream",
     "name": "stdout",
     "text": "10\n9\n8\n7\n6\n5\n4\n3\n2\n1\n"
    }
   ],
   "source": [
    "for i in range(10,0,-1):\n",
    "    print(i)"
   ]
  },
  {
   "cell_type": "code",
   "execution_count": 14,
   "metadata": {
    "tags": []
   },
   "outputs": [
    {
     "output_type": "stream",
     "name": "stdout",
     "text": "2\n3\n5\n7\n11\n13\n17\n19\n23\n29\n31\n37\n41\n43\n47\n53\n59\n61\n67\n71\n73\n79\n83\n89\n97\n"
    }
   ],
   "source": [
    "from sympy import primerange\n",
    "\n",
    "for i in primerange(1,100):\n",
    "    print(i)"
   ]
  },
  {
   "cell_type": "code",
   "execution_count": 6,
   "metadata": {
    "tags": []
   },
   "outputs": [
    {
     "output_type": "stream",
     "name": "stdout",
     "text": "1+2+3+...+98+99 = 5050\n"
    }
   ],
   "source": [
    "s = 0\n",
    "\n",
    "for i in range(101):\n",
    "    s += i\n",
    "\n",
    "print(f\"1+2+3+...+98+99 = {s}\")"
   ]
  },
  {
   "cell_type": "code",
   "execution_count": 34,
   "metadata": {
    "tags": []
   },
   "outputs": [
    {
     "output_type": "stream",
     "name": "stdout",
     "text": "1+3+5...+99 = 5150\n"
    }
   ],
   "source": [
    "s = 0\n",
    "\n",
    "for i in range(100):\n",
    "    s += i + 2\n",
    "\n",
    "print(f\"1+3+5...+99 = {s}\")"
   ]
  },
  {
   "cell_type": "code",
   "execution_count": 43,
   "metadata": {
    "tags": []
   },
   "outputs": [
    {
     "output_type": "stream",
     "name": "stdout",
     "text": "0 5 10 15 20 25 30 35 40 45 50"
    }
   ],
   "source": [
    "for i in range(0,51,5):\n",
    "    print(i, end=\" \")"
   ]
  },
  {
   "cell_type": "code",
   "execution_count": 45,
   "metadata": {
    "tags": []
   },
   "outputs": [
    {
     "output_type": "stream",
     "name": "stdout",
     "text": "0 69 138 207 276 345 414 483 552 621 690 "
    }
   ],
   "source": [
    "tal1 = 0 \n",
    "tal3 = int(input(\"Lägg in vilken tabell du vill ha: \"))\n",
    "tal2 = tal3*10 + 1\n",
    "for i in range(tal1,tal2,tal3):\n",
    "    print(i, end=\" \")"
   ]
  },
  {
   "cell_type": "code",
   "execution_count": 77,
   "metadata": {
    "tags": []
   },
   "outputs": [
    {
     "output_type": "stream",
     "name": "stdout",
     "text": "0 0 0 0 0 0 0 0 0 0 0 \n0 1 2 3 4 5 6 7 8 9 10 \n0 2 4 6 8 10 12 14 16 18 20 \n0 3 6 9 12 15 18 21 24 27 30 \n0 4 8 12 16 20 24 28 32 36 40 \n0 5 10 15 20 25 30 35 40 45 50 \n0 6 12 18 24 30 36 42 48 54 60 \n0 7 14 21 28 35 42 49 56 63 70 \n0 8 16 24 32 40 48 56 64 72 80 \n0 9 18 27 36 45 54 63 72 81 90 \n0 10 20 30 40 50 60 70 80 90 100 \n"
    }
   ],
   "source": [
    "for i in range(11):\n",
    "    for j in range(11):\n",
    "        print(i*j, {end=\" )\n",
    "    print()"
   ]
  },
  {
   "cell_type": "code",
   "execution_count": null,
   "metadata": {},
   "outputs": [],
   "source": []
  }
 ]
}