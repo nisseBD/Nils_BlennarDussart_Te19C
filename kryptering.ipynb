{
 "metadata": {
  "language_info": {
   "codemirror_mode": {
    "name": "ipython",
    "version": 3
   },
   "file_extension": ".py",
   "mimetype": "text/x-python",
   "name": "python",
   "nbconvert_exporter": "python",
   "pygments_lexer": "ipython3",
   "version": "3.8.3-final"
  },
  "orig_nbformat": 2,
  "kernelspec": {
   "name": "python3",
   "display_name": "Python 3"
  }
 },
 "nbformat": 4,
 "nbformat_minor": 2,
 "cells": [
  {
   "cell_type": "code",
   "execution_count": 1,
   "metadata": {},
   "outputs": [
    {
     "output_type": "error",
     "ename": "SyntaxError",
     "evalue": "invalid syntax (<ipython-input-1-3a9cf540e892>, line 5)",
     "traceback": [
      "\u001b[1;36m  File \u001b[1;32m\"<ipython-input-1-3a9cf540e892>\"\u001b[1;36m, line \u001b[1;32m5\u001b[0m\n\u001b[1;33m    uppdelat = rot.split(\" \")\u001b[0m\n\u001b[1;37m    ^\u001b[0m\n\u001b[1;31mSyntaxError\u001b[0m\u001b[1;31m:\u001b[0m invalid syntax\n"
     ]
    }
   ],
   "source": [
    "alfabetet = \"ABCDEFGHIJKLMNOPQRSTUVWXYZ_.\"\n",
    "\n",
    "rot = (input(\"Ange rot siffra och lösenord: \")\n",
    "\n",
    "uppdelat = rot.split(\" \")\n",
    "\n",
    "lösenord = uppdelat[1]\n",
    "\n",
    "rotnummer = uppdelat[0]\n",
    "\n",
    "längd = rot[1].__len__()\n",
    "\n",
    "\n",
    "print(lösenord)\n",
    "#for i in range(längd):\n",
    "  #  print(lösenord[rotnummer])\n",
    "\n"
   ]
  },
  {
   "cell_type": "code",
   "execution_count": 3,
   "metadata": {},
   "outputs": [
    {
     "output_type": "error",
     "ename": "TypeError",
     "evalue": "string indices must be integers",
     "traceback": [
      "\u001b[1;31m---------------------------------------------------------------------------\u001b[0m",
      "\u001b[1;31mTypeError\u001b[0m                                 Traceback (most recent call last)",
      "\u001b[1;32m<ipython-input-3-4e0ffbe4771f>\u001b[0m in \u001b[0;36m<module>\u001b[1;34m\u001b[0m\n\u001b[0;32m     14\u001b[0m \u001b[1;33m\u001b[0m\u001b[0m\n\u001b[0;32m     15\u001b[0m \u001b[1;32mfor\u001b[0m \u001b[0mi\u001b[0m \u001b[1;32min\u001b[0m \u001b[0mrange\u001b[0m\u001b[1;33m(\u001b[0m\u001b[0mlängd\u001b[0m\u001b[1;33m)\u001b[0m\u001b[1;33m:\u001b[0m\u001b[1;33m\u001b[0m\u001b[1;33m\u001b[0m\u001b[0m\n\u001b[1;32m---> 16\u001b[1;33m     \u001b[0mprint\u001b[0m\u001b[1;33m(\u001b[0m\u001b[0mlösenord\u001b[0m\u001b[1;33m[\u001b[0m\u001b[0mrotnummer\u001b[0m\u001b[1;33m]\u001b[0m\u001b[1;33m)\u001b[0m\u001b[1;33m\u001b[0m\u001b[1;33m\u001b[0m\u001b[0m\n\u001b[0m\u001b[0;32m     17\u001b[0m \u001b[1;33m\u001b[0m\u001b[0m\n",
      "\u001b[1;31mTypeError\u001b[0m: string indices must be integers"
     ]
    }
   ],
   "source": [
    "A = \"ABCDEFGHIJKLMNOPQRSTUVWXYZ_.\"\n",
    "\n",
    "rot = (input(\"Ange rot siffra och lösenord: \"))\n",
    "\n",
    "uppdelat = rot.split(\" \")\n",
    "\n",
    "\n",
    "\n",
    "lösenord = uppdelat[1]\n",
    "\n",
    "rotnummer = uppdelat[0]\n",
    "\n",
    "längd = rot[1].__len__()\n",
    "\n",
    "#for i in range(längd):\n",
    " #   print(lösenord[rotnummer])\n",
    "\n"
   ]
  },
  {
   "cell_type": "code",
   "execution_count": null,
   "metadata": {},
   "outputs": [],
   "source": []
  }
 ]
}