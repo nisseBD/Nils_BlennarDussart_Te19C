{
 "metadata": {
  "language_info": {
   "codemirror_mode": {
    "name": "ipython",
    "version": 3
   },
   "file_extension": ".py",
   "mimetype": "text/x-python",
   "name": "python",
   "nbconvert_exporter": "python",
   "pygments_lexer": "ipython3",
   "version": "3.8.3-final"
  },
  "orig_nbformat": 2,
  "kernelspec": {
   "name": "python3",
   "display_name": "Python 3",
   "language": "python"
  }
 },
 "nbformat": 4,
 "nbformat_minor": 2,
 "cells": [
  {
   "cell_type": "code",
   "execution_count": 12,
   "metadata": {},
   "outputs": [],
   "source": [
    "# Uppgift 1\n",
    "\n",
    "import random as rnd\n",
    "\n",
    "kast = []\n",
    "femmor = 0\n",
    "\n",
    "for i in range(10):\n",
    "    tärningskast = rnd.randint(1,6)\n",
    "    kast.append(tärningskast)\n",
    "\n",
    "for i in kast:\n",
    "    if i == 5:\n",
    "        femmor += 1\n",
    "\n",
    "with open(\"diceRoll.txt\", \"w\") as diceRoll:\n",
    "    diceRoll.write(\"Simulera 10 tärningskast: \" + str(kast) + \"\\n\")\n",
    "    diceRoll.write(\"Kastet sorterat: \" + str(sorted(kast)) + \"\\n\")\n",
    "    diceRoll.write(\"Antalet femmor: \" + str(femmor) + \"\\n\")\n",
    "    diceRoll.close()\n"
   ]
  },
  {
   "cell_type": "code",
   "execution_count": 17,
   "metadata": {},
   "outputs": [
    {
     "output_type": "stream",
     "name": "stdout",
     "text": [
      "Adam Gustafsson 25\nEmil Johansson 23\nSven Erik Karlsson 13\nOve Karlsten 41\nEmma Boden 32\nIda HÃ¥kansson 23\nElla Ester 41\nHanna Karlsson 23 \nJohan Johansson 42\nSven Erik Lundin 39\nBjÃ¶rn BjÃ¶rnsson 39\nKarl Karlsson 32\nBose Bosseson 32\nHÃ¥kan HÃ¥kanson 24\nJonas Jonasson 31\nErik Eriksson 31\nGore Bord 55\nJakob Kallander 65\nFredrika Ulven 10\n"
     ]
    }
   ],
   "source": [
    "# Uppgift 2 a\n",
    "\n",
    "with open(\"Provresultat.txt\", \"r\") as f1:\n",
    "    print(f1.read())\n"
   ]
  },
  {
   "cell_type": "code",
   "execution_count": 1,
   "metadata": {},
   "outputs": [],
   "source": [
    "# Uppgift 2 b\n",
    "\n",
    "with open(\"Provresultat.txt\", \"r\") as f1:\n",
    "    sortera = sorted(f1)\n",
    "\n",
    "with open(\"Provresultat.txt\", \"a\") as f2:\n",
    "    for namn in sortera:\n",
    "        f2.write(namn)  "
   ]
  },
  {
   "cell_type": "code",
   "execution_count": 1,
   "metadata": {},
   "outputs": [
    {
     "output_type": "error",
     "ename": "TypeError",
     "evalue": "'_io.TextIOWrapper' object is not subscriptable",
     "traceback": [
      "\u001b[1;31m---------------------------------------------------------------------------\u001b[0m",
      "\u001b[1;31mTypeError\u001b[0m                                 Traceback (most recent call last)",
      "\u001b[1;32m<ipython-input-1-c4598138c258>\u001b[0m in \u001b[0;36m<module>\u001b[1;34m\u001b[0m\n\u001b[0;32m     13\u001b[0m \u001b[1;32mwith\u001b[0m \u001b[0mopen\u001b[0m\u001b[1;33m(\u001b[0m\u001b[1;34m\"Provresultat.txt\"\u001b[0m\u001b[1;33m,\u001b[0m \u001b[1;34m\"a+\"\u001b[0m\u001b[1;33m)\u001b[0m \u001b[1;32mas\u001b[0m \u001b[0mf1\u001b[0m\u001b[1;33m:\u001b[0m\u001b[1;33m\u001b[0m\u001b[1;33m\u001b[0m\u001b[0m\n\u001b[0;32m     14\u001b[0m     \u001b[0mtal\u001b[0m \u001b[1;33m=\u001b[0m \u001b[0mopen\u001b[0m\u001b[1;33m(\u001b[0m\u001b[1;34m\"Provresultat.txt\"\u001b[0m\u001b[1;33m)\u001b[0m\u001b[1;33m\u001b[0m\u001b[1;33m\u001b[0m\u001b[0m\n\u001b[1;32m---> 15\u001b[1;33m     \u001b[0msiffra\u001b[0m \u001b[1;33m=\u001b[0m \u001b[0mtal\u001b[0m\u001b[1;33m[\u001b[0m\u001b[1;33m-\u001b[0m\u001b[1;36m3\u001b[0m\u001b[1;33m:\u001b[0m\u001b[1;33m]\u001b[0m\u001b[1;33m\u001b[0m\u001b[1;33m\u001b[0m\u001b[0m\n\u001b[0m\u001b[0;32m     16\u001b[0m     \u001b[0mf1\u001b[0m\u001b[1;33m.\u001b[0m\u001b[0mwrite\u001b[0m\u001b[1;33m(\u001b[0m\u001b[1;34m\"\\n\"\u001b[0m\u001b[1;33m)\u001b[0m\u001b[1;33m\u001b[0m\u001b[1;33m\u001b[0m\u001b[0m\n\u001b[0;32m     17\u001b[0m     \u001b[1;32mfor\u001b[0m \u001b[0mnamn\u001b[0m \u001b[1;32min\u001b[0m \u001b[0mtal\u001b[0m\u001b[1;33m:\u001b[0m\u001b[1;33m\u001b[0m\u001b[1;33m\u001b[0m\u001b[0m\n",
      "\u001b[1;31mTypeError\u001b[0m: '_io.TextIOWrapper' object is not subscriptable"
     ]
    }
   ],
   "source": [
    "# Uppgift c\n",
    "\n",
    "F = []\n",
    "E = []\n",
    "D = []\n",
    "C = []\n",
    "B = []\n",
    "A = []\n",
    "\n",
    "resultat = [A,B,C,D,E,F]\n",
    "betyg = [60,50,40,30,20,0]\n",
    "\n",
    "with open(\"Provresultat.txt\", \"a+\") as f1:\n",
    "    tal = open(\"Provresultat.txt\")\n",
    "    siffra = tal[-3:]\n",
    "    f1.write(\"\\n\")\n",
    "    for namn in tal:\n",
    "        poäng = int(namn[-3:])\n",
    "        for i in betyg:\n",
    "            if poäng > i:\n",
    "                print(namn)\n",
    "\n",
    "#får problem som jag inte vet hur jag löser(TypeError: '_io.TextIOWrapper' object is not subscriptable)"
   ]
  },
  {
   "cell_type": "code",
   "execution_count": null,
   "metadata": {},
   "outputs": [],
   "source": []
  }
 ]
}