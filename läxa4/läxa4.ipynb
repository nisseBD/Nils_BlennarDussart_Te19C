{
 "metadata": {
  "language_info": {
   "codemirror_mode": {
    "name": "ipython",
    "version": 3
   },
   "file_extension": ".py",
   "mimetype": "text/x-python",
   "name": "python",
   "nbconvert_exporter": "python",
   "pygments_lexer": "ipython3",
   "version": "3.8.3-final"
  },
  "orig_nbformat": 2,
  "kernelspec": {
   "name": "Python 3.8.3 64-bit ('nils.blennardussart': virtualenv)",
   "display_name": "Python 3.8.3 64-bit ('nils.blennardussart': virtualenv)",
   "metadata": {
    "interpreter": {
     "hash": "8c0fd3f7fab6fac221adaac4cee9243092b31b85383eb63665c767af85e82a7c"
    }
   }
  }
 },
 "nbformat": 4,
 "nbformat_minor": 2,
 "cells": [
  {
   "cell_type": "code",
   "execution_count": 6,
   "metadata": {},
   "outputs": [
    {
     "output_type": "stream",
     "name": "stdout",
     "text": [
      "Jämna tal från 0-10\n0 2 4 6 8 10 "
     ]
    }
   ],
   "source": [
    "print(\"Jämna tal från 0-10\")\n",
    "n = 0\n",
    "while n <= 10:\n",
    "    print(f\"{n}\", end=\" \")\n",
    "    n += 2"
   ]
  },
  {
   "cell_type": "code",
   "execution_count": 5,
   "metadata": {},
   "outputs": [
    {
     "output_type": "stream",
     "name": "stdout",
     "text": [
      "5050\n"
     ]
    }
   ],
   "source": [
    "tal = 0\n",
    "s = 0\n",
    "\n",
    "while tal <= 99:\n",
    "    tal += 1\n",
    "    s += tal\n",
    "\n",
    "print(s)"
   ]
  },
  {
   "cell_type": "code",
   "execution_count": 4,
   "metadata": {},
   "outputs": [
    {
     "output_type": "stream",
     "name": "stdout",
     "text": [
      "2550\n"
     ]
    }
   ],
   "source": [
    "tal = 0\n",
    "s = 0\n",
    "\n",
    "while tal <= 99:\n",
    "    tal += 2\n",
    "    s += tal\n",
    "\n",
    "print(s)"
   ]
  },
  {
   "cell_type": "code",
   "execution_count": 3,
   "metadata": {},
   "outputs": [
    {
     "output_type": "stream",
     "name": "stdout",
     "text": [
      "1+3+5+7+9 = 25\n"
     ]
    }
   ],
   "source": [
    "n = 1\n",
    "summa = 0\n",
    "\n",
    "while n < 10:\n",
    "    summa = summa + n\n",
    "    n += 2\n",
    "\n",
    "print(f\"1+3+5+7+9 = {summa}\")"
   ]
  },
  {
   "cell_type": "code",
   "execution_count": 2,
   "metadata": {},
   "outputs": [
    {
     "output_type": "stream",
     "name": "stdout",
     "text": [
      "2.0\n"
     ]
    }
   ],
   "source": [
    "s = 0\n",
    "n = 0\n",
    "\n",
    "while n < 100:\n",
    "    s = s + 2**(-n)\n",
    "    n = n +1   \n",
    "\n",
    "print(s)"
   ]
  },
  {
   "cell_type": "code",
   "execution_count": 1,
   "metadata": {},
   "outputs": [
    {
     "output_type": "stream",
     "name": "stdout",
     "text": [
      "Du var 50.0 ifrån svaret\n",
      "Du hade rätt!\n"
     ]
    }
   ],
   "source": [
    "import random as rnd \n",
    "\n",
    "gissning = float(input(\"Gissa ett tal mellan 0 till 100: \"))\n",
    "tal = rnd.randint(0,100)\n",
    "\n",
    "while gissning != tal:\n",
    "    gissning = gissning - tal\n",
    "    print(f\"Du var {gissning} ifrån svaret\")\n",
    "    gissning = float(input(\"Gissa igen: \"))\n",
    "\n",
    "print(\"Du hade rätt!\") "
   ]
  },
  {
   "cell_type": "code",
   "execution_count": null,
   "metadata": {},
   "outputs": [],
   "source": []
  }
 ]
}