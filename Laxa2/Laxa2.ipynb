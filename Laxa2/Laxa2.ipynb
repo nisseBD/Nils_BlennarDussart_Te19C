{
 "metadata": {
  "language_info": {
   "codemirror_mode": {
    "name": "ipython",
    "version": 3
   },
   "file_extension": ".py",
   "mimetype": "text/x-python",
   "name": "python",
   "nbconvert_exporter": "python",
   "pygments_lexer": "ipython3",
   "version": "3.8.3-final"
  },
  "orig_nbformat": 2,
  "kernelspec": {
   "name": "python_defaultSpec_1600859610198",
   "display_name": "Python 3.8.3 64-bit ('base': conda)"
  }
 },
 "nbformat": 4,
 "nbformat_minor": 2,
 "cells": [
  {
   "cell_type": "code",
   "execution_count": 9,
   "metadata": {
    "tags": []
   },
   "outputs": [
    {
     "output_type": "stream",
     "name": "stdout",
     "text": "Talet är negativt\n"
    }
   ],
   "source": [
    "tal = int(input(\"Välj ett tal: \"))\n",
    "\n",
    "if tal >= 0:\n",
    "    print(\"Talet är positivt\")\n",
    "else:\n",
    "    print(\"Talet är negativt\")"
   ]
  },
  {
   "cell_type": "code",
   "execution_count": 14,
   "metadata": {
    "tags": []
   },
   "outputs": [
    {
     "output_type": "stream",
     "name": "stdout",
     "text": "Talet är jämt\n"
    }
   ],
   "source": [
    "tal = int(input(\"Välj ett tal: \"))\n",
    "\n",
    "if tal%2 == 0:\n",
    "    print(\"Talet är jämt\")\n",
    "elif tal%5 == 0:\n",
    "    print(\"Talet är delbart med 5\")\n",
    "else:\n",
    "    print(\"Talet är udda\")"
   ]
  },
  {
   "cell_type": "code",
   "execution_count": 1,
   "metadata": {
    "tags": []
   },
   "outputs": [
    {
     "output_type": "stream",
     "name": "stdout",
     "text": "Spetsig vinkel\n"
    }
   ],
   "source": [
    "vinkel = float(input(\"Ange en vinkel v i grader, där v => 0 <= 360 : \"))\n",
    "\n",
    "# v => 0 <= 90 spetsig\n",
    "if vinkel >= 0 and vinkel < 90:\n",
    "    print(\"Spetsig vinkel\")\n",
    "elif vinkel == 90:\n",
    "    print(\"Rät vinkel\")\n",
    "elif vinkel > 90 and vinkel < 180:\n",
    "    print(\"Trubbig vinkel\")\n",
    "else:\n",
    "    print(\"Vinkeln är inte spetsig, rät eller trubbig\")"
   ]
  },
  {
   "cell_type": "code",
   "execution_count": 15,
   "metadata": {
    "tags": []
   },
   "outputs": [
    {
     "output_type": "stream",
     "name": "stdout",
     "text": "9\n"
    }
   ],
   "source": [
    "tal1 = int(input(\"Välj ett tal: \"))\n",
    "tal2 = int(input(\"Välj ett tal: \"))\n",
    "tal3 = int(input(\"Välj ett tal: \"))\n",
    "tal4 = int(input(\"Välj ett tal: \"))\n",
    "\n",
    "if tal1 > tal2 and tal1 > tal3 and tal1 > tal4:\n",
    "    print(tal1)\n",
    "elif tal2 > tal1 and tal2 > tal3 and tal2 > tal4:\n",
    "    print(tal2)\n",
    "elif tal3 > tal2 and tal3 > tal1 and  tal3 > tal4:\n",
    "    print(tal3)\n",
    "else: \n",
    "    print(tal4)"
   ]
  },
  {
   "cell_type": "code",
   "execution_count": null,
   "metadata": {},
   "outputs": [],
   "source": [
    "s = 0\n",
    "\n",
    "for i in range(1,10):\n",
    "\n",
    "    s += id\n",
    "\n",
    "print(s)"
   ]
  },
  {
   "cell_type": "code",
   "execution_count": null,
   "metadata": {},
   "outputs": [],
   "source": []
  }
 ]
}